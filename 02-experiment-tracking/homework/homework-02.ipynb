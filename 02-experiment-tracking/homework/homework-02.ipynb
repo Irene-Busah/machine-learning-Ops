{
 "cells": [
  {
   "cell_type": "code",
   "execution_count": null,
   "id": "8931314f",
   "metadata": {},
   "outputs": [],
   "source": [
    "# importing the necessary libraries\n",
    "import mlflow\n",
    "import pandas as pd\n",
    "\n",
    "from preprocess_data import run_data_prep"
   ]
  },
  {
   "cell_type": "code",
   "execution_count": 4,
   "id": "b1b19c2c",
   "metadata": {},
   "outputs": [
    {
     "name": "stdout",
     "output_type": "stream",
     "text": [
      "2.2.2\n"
     ]
    }
   ],
   "source": [
    "# ============================ Q1 ============================\n",
    "\n",
    "print(pd.__version__)"
   ]
  },
  {
   "cell_type": "code",
   "execution_count": null,
   "id": "874eb626",
   "metadata": {},
   "outputs": [],
   "source": []
  }
 ],
 "metadata": {
  "kernelspec": {
   "display_name": "base",
   "language": "python",
   "name": "python3"
  },
  "language_info": {
   "codemirror_mode": {
    "name": "ipython",
    "version": 3
   },
   "file_extension": ".py",
   "mimetype": "text/x-python",
   "name": "python",
   "nbconvert_exporter": "python",
   "pygments_lexer": "ipython3",
   "version": "3.12.4"
  }
 },
 "nbformat": 4,
 "nbformat_minor": 5
}
