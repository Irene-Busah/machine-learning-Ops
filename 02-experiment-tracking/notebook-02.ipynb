{
 "cells": [
  {
   "cell_type": "markdown",
   "id": "a549e6cd",
   "metadata": {},
   "source": [
    "Model Regsitry - MLFlow Tracking Server\n",
    "\n",
    "MLflowClient allows us to interact with the MLflow tracking server, which creates and manages experiments, runs, and artifacts and the MLflow Registry, which creates and manages models and their versions.\n"
   ]
  },
  {
   "cell_type": "code",
   "execution_count": 11,
   "id": "7d50b1b0",
   "metadata": {},
   "outputs": [],
   "source": [
    "# importing necessary libraries\n",
    "from mlflow.tracking import MlflowClient\n",
    "import mlflow\n",
    "from mlflow.entities import ViewType"
   ]
  },
  {
   "cell_type": "code",
   "execution_count": 8,
   "id": "e15c8c4b",
   "metadata": {},
   "outputs": [
    {
     "name": "stdout",
     "output_type": "stream",
     "text": [
      "file:///c:/Users/STUDSENT/Desktop/machine-learning-Ops/02-experiment-tracking/mlruns\n"
     ]
    }
   ],
   "source": [
    "print(mlflow.get_tracking_uri())"
   ]
  },
  {
   "cell_type": "code",
   "execution_count": 9,
   "id": "01110be8",
   "metadata": {},
   "outputs": [],
   "source": [
    "mlflow.set_tracking_uri(\"file:///c:/Users/STUDSENT/Desktop/machine-learning-Ops/02-experiment-tracking/mlruns\")"
   ]
  },
  {
   "cell_type": "code",
   "execution_count": 12,
   "id": "3e7d6466",
   "metadata": {},
   "outputs": [
    {
     "name": "stdout",
     "output_type": "stream",
     "text": [
      "0 - Default\n"
     ]
    }
   ],
   "source": [
    "# creating the MLflow client\n",
    "client = MlflowClient(tracking_uri=\"file:///02-experiment-tracking/mlruns/\")\n",
    "\n",
    "# client.list_experiments()\n",
    "\n",
    "# client.list_artifacts(\"5fc13a50a1984d33b1a575b89d2d439b\")\n",
    "\n",
    "experiments = client.search_experiments(view_type=ViewType.ALL)\n",
    "for exp in experiments:\n",
    "    print(f\"{exp.experiment_id} - {exp.name}\")"
   ]
  }
 ],
 "metadata": {
  "kernelspec": {
   "display_name": "base",
   "language": "python",
   "name": "python3"
  },
  "language_info": {
   "codemirror_mode": {
    "name": "ipython",
    "version": 3
   },
   "file_extension": ".py",
   "mimetype": "text/x-python",
   "name": "python",
   "nbconvert_exporter": "python",
   "pygments_lexer": "ipython3",
   "version": "3.12.4"
  }
 },
 "nbformat": 4,
 "nbformat_minor": 5
}
