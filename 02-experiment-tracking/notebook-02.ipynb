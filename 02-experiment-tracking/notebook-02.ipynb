{
 "cells": [
  {
   "cell_type": "markdown",
   "id": "a549e6cd",
   "metadata": {},
   "source": [
    "Model Regsitry - MLFlow Tracking Server\n",
    "\n",
    "MLflowClient allows us to interact with the MLflow tracking server, which creates and manages experiments, runs, and artifacts and the MLflow Registry, which creates and manages models and their versions.\n"
   ]
  },
  {
   "cell_type": "code",
   "execution_count": null,
   "id": "7d50b1b0",
   "metadata": {},
   "outputs": [],
   "source": [
    "# importing necessary libraries\n",
    "from mlflow.tracking import MlflowClient\n",
    "import mlflow"
   ]
  },
  {
   "cell_type": "code",
   "execution_count": 7,
   "id": "3e7d6466",
   "metadata": {},
   "outputs": [
    {
     "name": "stdout",
     "output_type": "stream",
     "text": [
      "Experiment ID: 800818189677310631\n",
      "Experiment Name: nyc-taxi-trial\n",
      "Tags: {'author': 'Irene', 'env': 'dev', 'version': '1.0.0'}\n",
      "Experiment ID: 243624383208551886\n",
      "Experiment Name: nyc-taxi-experiment\n",
      "Tags: {'author': 'Irene', 'env': 'dev', 'version': '1.0.0'}\n",
      "Experiment ID: 0\n",
      "Experiment Name: Default\n",
      "Tags: {}\n"
     ]
    }
   ],
   "source": [
    "# creating the MLflow client\n",
    "client = MlflowClient()\n",
    "\n",
    "experiments = client.search_experiments()\n",
    "\n",
    "# printing the list of experiments\n",
    "for experiment in experiments:\n",
    "    print(f\"Experiment ID: {experiment.experiment_id}\")\n",
    "    print(f\"Experiment Name: {experiment.name}\")\n",
    "    print(f\"Tags: {experiment.tags}\")"
   ]
  },
  {
   "cell_type": "code",
   "execution_count": 15,
   "id": "a36880e0",
   "metadata": {},
   "outputs": [
    {
     "name": "stdout",
     "output_type": "stream",
     "text": [
      "run id: e84c28e39fdb4998b09d840f7b24d857, rmse: 10.2521\n",
      "run id: 0e9b86e756a84f17997bd06edf2f1b07, rmse: 10.2521\n",
      "run id: 5ed39ccfc4c249c6826fb320e71c3657, rmse: 5.5095\n",
      "run id: 1bb12bc24c7e49cd8b7e6196bce7373b, rmse: 5.5095\n"
     ]
    }
   ],
   "source": [
    "# creating a new experiment\n",
    "# client.create_experiment(name=\"new_experiment\")\n",
    "\n",
    "runs = client.search_runs(\n",
    "    experiment_ids=[\"243624383208551886\"],\n",
    "    filter_string=\"metrics.rmse > 0.8\",\n",
    "    run_view_type=mlflow.entities.ViewType.ACTIVE_ONLY,\n",
    "    max_results=10,\n",
    "    order_by=[\"metrics.rmse DESC\"]\n",
    ")\n",
    "\n",
    "for run in runs:\n",
    "    print(f\"run id: {run.info.run_id}, rmse: {run.data.metrics['rmse']:.4f}\")"
   ]
  },
  {
   "cell_type": "code",
   "execution_count": null,
   "id": "ef7ba5e9",
   "metadata": {},
   "outputs": [],
   "source": [
    "# registering a model\n",
    "\n"
   ]
  }
 ],
 "metadata": {
  "kernelspec": {
   "display_name": "base",
   "language": "python",
   "name": "python3"
  },
  "language_info": {
   "codemirror_mode": {
    "name": "ipython",
    "version": 3
   },
   "file_extension": ".py",
   "mimetype": "text/x-python",
   "name": "python",
   "nbconvert_exporter": "python",
   "pygments_lexer": "ipython3",
   "version": "3.12.4"
  }
 },
 "nbformat": 4,
 "nbformat_minor": 5
}
