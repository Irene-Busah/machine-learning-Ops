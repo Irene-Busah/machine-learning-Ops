{
 "cells": [
  {
   "cell_type": "code",
   "execution_count": 8,
   "id": "204fae27",
   "metadata": {},
   "outputs": [],
   "source": [
    "# Dealing with a simple data science problem\n",
    "\n",
    "# Importing the required libraries\n",
    "import mlflow\n",
    "from mlflow.tracking import MlflowClient\n",
    "from mlflow.exceptions import MlflowException\n",
    "from sklearn.linear_model import LogisticRegression\n",
    "from sklearn.datasets import load_iris\n",
    "from sklearn.metrics import accuracy_score"
   ]
  },
  {
   "cell_type": "code",
   "execution_count": 2,
   "id": "8fba081c",
   "metadata": {},
   "outputs": [
    {
     "name": "stdout",
     "output_type": "stream",
     "text": [
      "Tracking URI: file:///c:/Users/STUDSENT/Desktop/machine-learning-Ops/02-experiment-tracking/projects/mlruns\n"
     ]
    }
   ],
   "source": [
    "print(f\"Tracking URI: {mlflow.get_tracking_uri()}\")"
   ]
  },
  {
   "cell_type": "code",
   "execution_count": 4,
   "id": "50ae3086",
   "metadata": {},
   "outputs": [
    {
     "data": {
      "text/plain": [
       "[<Experiment: artifact_location='file:///c:/Users/STUDSENT/Desktop/machine-learning-Ops/02-experiment-tracking/projects/mlruns/0', creation_time=1748044699222, experiment_id='0', last_update_time=1748044699222, lifecycle_stage='active', name='Default', tags={}>]"
      ]
     },
     "execution_count": 4,
     "metadata": {},
     "output_type": "execute_result"
    }
   ],
   "source": [
    "# getting the list of experiments\n",
    "experiments = mlflow.search_experiments()\n",
    "experiments"
   ]
  },
  {
   "cell_type": "code",
   "execution_count": 6,
   "id": "f0edec02",
   "metadata": {},
   "outputs": [
    {
     "name": "stderr",
     "output_type": "stream",
     "text": [
      "2025/05/24 02:12:19 INFO mlflow.tracking.fluent: Experiment with name 'Iris_Classification' does not exist. Creating a new experiment.\n"
     ]
    },
    {
     "name": "stdout",
     "output_type": "stream",
     "text": [
      "Accuracy: 0.86\n"
     ]
    },
    {
     "name": "stderr",
     "output_type": "stream",
     "text": [
      "2025/05/24 02:12:34 WARNING mlflow.models.model: Model logged without a signature and input example. Please set `input_example` parameter when logging the model to auto infer the model signature.\n"
     ]
    },
    {
     "name": "stdout",
     "output_type": "stream",
     "text": [
      "Artifact URI: file:///c:/Users/STUDSENT/Desktop/machine-learning-Ops/02-experiment-tracking/projects/mlruns/784814380553915031/8c395b7eb8564f07ae5887ac011b545f/artifacts\n"
     ]
    }
   ],
   "source": [
    "# creating a new experiment and run\n",
    "\n",
    "mlflow.set_experiment(\"Iris_Classification\")\n",
    "\n",
    "with mlflow.start_run():\n",
    "    x, y = load_iris(return_X_y=True)\n",
    "\n",
    "    parameters = {\n",
    "        \"C\": 0.1,\n",
    "        \"max_iter\": 100,\n",
    "        \"solver\": \"liblinear\",\n",
    "        \"random_state\": 42\n",
    "    }\n",
    "\n",
    "    linear_model = LogisticRegression(**parameters)\n",
    "    linear_model.fit(x, y)\n",
    "    \n",
    "    # predicting the labels\n",
    "    y_pred = linear_model.predict(x)\n",
    "    accuracy = accuracy_score(y, y_pred)\n",
    "    print(f\"Accuracy: {accuracy}\")\n",
    "\n",
    "    # logging the model\n",
    "    mlflow.log_metrics({\"accuracy\": accuracy})\n",
    "    mlflow.log_params(parameters)\n",
    "\n",
    "    mlflow.sklearn.log_model(linear_model, \"models\")\n",
    "    print(f\"Artifact URI: {mlflow.get_artifact_uri()}\")"
   ]
  },
  {
   "cell_type": "code",
   "execution_count": null,
   "id": "2cfaefd1",
   "metadata": {},
   "outputs": [],
   "source": [
    "mlflow.search_experiments()"
   ]
  },
  {
   "cell_type": "code",
   "execution_count": 10,
   "id": "0c5146da",
   "metadata": {},
   "outputs": [],
   "source": [
    "# %pip install --upgrade mlflow"
   ]
  },
  {
   "cell_type": "code",
   "execution_count": null,
   "id": "28d2a742",
   "metadata": {},
   "outputs": [
    {
     "name": "stdout",
     "output_type": "stream",
     "text": [
      "Model registry is available\n"
     ]
    }
   ],
   "source": [
    "# interacting with model registry\n",
    "\n",
    "client = MlflowClient()\n",
    "\n",
    "try:\n",
    "    client.search_registered_models()\n",
    "    print(\"Model registry is available\")\n",
    "except MlflowException as e:\n",
    "    print(\"It is not possible to access the model registry\")"
   ]
  }
 ],
 "metadata": {
  "kernelspec": {
   "display_name": "base",
   "language": "python",
   "name": "python3"
  },
  "language_info": {
   "codemirror_mode": {
    "name": "ipython",
    "version": 3
   },
   "file_extension": ".py",
   "mimetype": "text/x-python",
   "name": "python",
   "nbconvert_exporter": "python",
   "pygments_lexer": "ipython3",
   "version": "3.12.4"
  }
 },
 "nbformat": 4,
 "nbformat_minor": 5
}
