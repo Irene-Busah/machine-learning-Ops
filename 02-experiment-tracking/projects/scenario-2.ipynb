{
 "cells": [
  {
   "cell_type": "code",
   "execution_count": 6,
   "id": "85fcb084",
   "metadata": {},
   "outputs": [],
   "source": [
    "# working with local tracking server\n",
    "\n",
    "# importing the required libraries\n",
    "import mlflow\n",
    "from sklearn.datasets import load_iris\n",
    "from sklearn.linear_model import LogisticRegression\n",
    "from sklearn.metrics import accuracy_score"
   ]
  },
  {
   "cell_type": "code",
   "execution_count": 2,
   "id": "02f723c3",
   "metadata": {},
   "outputs": [],
   "source": [
    "mlflow.set_tracking_uri(\"http://127.0.0.1:5000\")"
   ]
  },
  {
   "cell_type": "code",
   "execution_count": 3,
   "id": "d8eabead",
   "metadata": {},
   "outputs": [
    {
     "name": "stdout",
     "output_type": "stream",
     "text": [
      "Tracking URI set to:  http://127.0.0.1:5000\n"
     ]
    },
    {
     "data": {
      "text/plain": [
       "[<Experiment: artifact_location='mlflow-artifacts:/0', creation_time=1748047947443, experiment_id='0', last_update_time=1748047947443, lifecycle_stage='active', name='Default', tags={}>]"
      ]
     },
     "execution_count": 3,
     "metadata": {},
     "output_type": "execute_result"
    }
   ],
   "source": [
    "print(\"Tracking URI set to: \", mlflow.get_tracking_uri())\n",
    "\n",
    "mlflow.search_experiments()"
   ]
  },
  {
   "cell_type": "code",
   "execution_count": 7,
   "id": "d715e256",
   "metadata": {},
   "outputs": [
    {
     "name": "stderr",
     "output_type": "stream",
     "text": [
      "2025/05/24 03:01:12 INFO mlflow.tracking.fluent: Experiment with name 'Iris_Classification_Scenario_2' does not exist. Creating a new experiment.\n"
     ]
    },
    {
     "name": "stdout",
     "output_type": "stream",
     "text": [
      "Accuracy: 0.86\n"
     ]
    },
    {
     "name": "stderr",
     "output_type": "stream",
     "text": [
      "2025/05/24 03:01:25 WARNING mlflow.models.model: Model logged without a signature and input example. Please set `input_example` parameter when logging the model to auto infer the model signature.\n"
     ]
    },
    {
     "name": "stdout",
     "output_type": "stream",
     "text": [
      "Artifact URI: mlflow-artifacts:/1/fb410d47314e4a209ac8c3f801a44434/artifacts\n",
      "🏃 View run rare-shoat-35 at: http://127.0.0.1:5000/#/experiments/1/runs/fb410d47314e4a209ac8c3f801a44434\n",
      "🧪 View experiment at: http://127.0.0.1:5000/#/experiments/1\n"
     ]
    }
   ],
   "source": [
    "# creating a new experiment and run\n",
    "\n",
    "mlflow.set_experiment(\"Iris_Classification_Scenario_2\")\n",
    "\n",
    "with mlflow.start_run():\n",
    "    x, y = load_iris(return_X_y=True)\n",
    "\n",
    "    parameters = {\n",
    "        \"C\": 0.1,\n",
    "        \"max_iter\": 100,\n",
    "        \"solver\": \"liblinear\",\n",
    "        \"random_state\": 42\n",
    "    }\n",
    "\n",
    "    linear_model = LogisticRegression(**parameters)\n",
    "    linear_model.fit(x, y)\n",
    "    \n",
    "    # predicting the labels\n",
    "    y_pred = linear_model.predict(x)\n",
    "    accuracy = accuracy_score(y, y_pred)\n",
    "    print(f\"Accuracy: {accuracy}\")\n",
    "\n",
    "    # logging the model\n",
    "    mlflow.log_metrics({\"accuracy\": accuracy})\n",
    "    mlflow.log_params(parameters)\n",
    "\n",
    "    mlflow.sklearn.log_model(linear_model, \"models\")\n",
    "    print(f\"Artifact URI: {mlflow.get_artifact_uri()}\")"
   ]
  },
  {
   "cell_type": "code",
   "execution_count": 10,
   "id": "e842a0cc",
   "metadata": {},
   "outputs": [
    {
     "data": {
      "text/plain": [
       "[]"
      ]
     },
     "execution_count": 10,
     "metadata": {},
     "output_type": "execute_result"
    }
   ],
   "source": [
    "# model registry\n",
    "\n",
    "from mlflow.tracking import MlflowClient\n",
    "\n",
    "client = MlflowClient(\"http://127.0.0.1:5000\")\n",
    "client.search_registered_models()"
   ]
  },
  {
   "cell_type": "code",
   "execution_count": 15,
   "id": "227a3e42",
   "metadata": {},
   "outputs": [
    {
     "name": "stderr",
     "output_type": "stream",
     "text": [
      "Registered model 'Iris_Classification_Model' already exists. Creating a new version of this model...\n",
      "2025/05/24 03:16:46 INFO mlflow.store.model_registry.abstract_store: Waiting up to 300 seconds for model version to finish creation. Model name: Iris_Classification_Model, version 1\n",
      "Created version '1' of model 'Iris_Classification_Model'.\n"
     ]
    },
    {
     "data": {
      "text/plain": [
       "<ModelVersion: aliases=[], creation_timestamp=1748049406650, current_stage='None', description='', last_updated_timestamp=1748049406650, name='Iris_Classification_Model', run_id='fb410d47314e4a209ac8c3f801a44434', run_link='', source='mlflow-artifacts:/1/fb410d47314e4a209ac8c3f801a44434/artifacts/models', status='READY', status_message=None, tags={}, user_id='', version='1'>"
      ]
     },
     "execution_count": 15,
     "metadata": {},
     "output_type": "execute_result"
    }
   ],
   "source": [
    "runs = client.search_runs(experiment_ids=[\"1\"])\n",
    "run_id = runs[0].info.run_id\n",
    "\n",
    "mlflow.register_model(\n",
    "    f\"runs:/{run_id}/models\",\n",
    "    \"Iris_Classification_Model\"\n",
    ")"
   ]
  }
 ],
 "metadata": {
  "kernelspec": {
   "display_name": "base",
   "language": "python",
   "name": "python3"
  },
  "language_info": {
   "codemirror_mode": {
    "name": "ipython",
    "version": 3
   },
   "file_extension": ".py",
   "mimetype": "text/x-python",
   "name": "python",
   "nbconvert_exporter": "python",
   "pygments_lexer": "ipython3",
   "version": "3.12.4"
  }
 },
 "nbformat": 4,
 "nbformat_minor": 5
}
