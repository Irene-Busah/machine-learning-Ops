{
 "cells": [
  {
   "cell_type": "code",
   "execution_count": 2,
   "id": "06a2c5e3",
   "metadata": {},
   "outputs": [],
   "source": [
    "import pickle\n",
    "\n",
    "import pandas as pd\n",
    "\n",
    "\n",
    "from sklearn.feature_extraction import DictVectorizer\n",
    "from sklearn.ensemble import RandomForestRegressor\n",
    "from sklearn.metrics import root_mean_squared_error\n",
    "\n",
    "from sklearn.pipeline import make_pipeline\n",
    "\n",
    "import mlflow"
   ]
  },
  {
   "cell_type": "code",
   "execution_count": 4,
   "id": "eca5c5e4",
   "metadata": {},
   "outputs": [
    {
     "name": "stderr",
     "output_type": "stream",
     "text": [
      "2025/06/12 23:27:17 INFO mlflow.tracking.fluent: Experiment with name 'green-taxi-experiment' does not exist. Creating a new experiment.\n"
     ]
    },
    {
     "data": {
      "text/plain": [
       "<Experiment: artifact_location='file:///C:/Users/STUDSENT/Desktop/machine-learning-Ops/04-deployment/batch_deployment/mlruns/1', creation_time=1749763637001, experiment_id='1', last_update_time=1749763637001, lifecycle_stage='active', name='green-taxi-experiment', tags={}>"
      ]
     },
     "execution_count": 4,
     "metadata": {},
     "output_type": "execute_result"
    }
   ],
   "source": [
    "# setting the tracking URI to the local file system\n",
    "\n",
    "mlflow.set_tracking_uri(\"http://127.0.0.1:5000\")\n",
    "\n",
    "mlflow.set_experiment(\"green-taxi-experiment\")"
   ]
  },
  {
   "cell_type": "code",
   "execution_count": 5,
   "id": "3392160f",
   "metadata": {},
   "outputs": [],
   "source": [
    "def read_dataframe(filename: str) -> pd.DataFrame:\n",
    "    \"\"\"\n",
    "    Reads a CSV file and returns a DataFrame.\n",
    "    Args:\n",
    "        filename (str): The path to the CSV file.\n",
    "    \"\"\"\n",
    "\n",
    "    data = pd.read_parquet(filename)\n",
    "\n",
    "    data['duration'] = data.lpep_dropoff_datetime - data.lpep_pickup_datetime\n",
    "\n",
    "    data.duration = data.duration.dt.total_seconds() / 60\n",
    "    data = data[(data.duration >= 1) & (data.duration <= 60)]\n",
    "\n",
    "    categorical = ['PULocationID', 'DOLocationID']\n",
    "    data[categorical] = data[categorical].astype(str)\n",
    "    return data\n"
   ]
  },
  {
   "cell_type": "code",
   "execution_count": 6,
   "id": "e87f94da",
   "metadata": {},
   "outputs": [],
   "source": [
    "def clear_dict(data: pd.DataFrame) -> dict:\n",
    "    \"\"\"\n",
    "    Converts a DataFrame to a dictionary format suitable for DictVectorizer.\n",
    "    Args:\n",
    "        data (pd.DataFrame): The input DataFrame.\n",
    "    Returns:\n",
    "        dict: A dictionary representation of the DataFrame.\n",
    "    \"\"\"\n",
    "    data['PU_DO'] = data['PULocationID'] + '_' + data['DOLocationID']\n",
    "    categorical = ['PU_DO']\n",
    "    numerical = ['trip_distance']\n",
    "\n",
    "    dicts = data[categorical + numerical].to_dict(orient='records')\n",
    "    return dicts"
   ]
  },
  {
   "cell_type": "code",
   "execution_count": 7,
   "id": "e855186c",
   "metadata": {},
   "outputs": [],
   "source": [
    "df_train = read_dataframe('https://d37ci6vzurychx.cloudfront.net/trip-data/green_tripdata_2021-01.parquet')\n",
    "df_val = read_dataframe('https://d37ci6vzurychx.cloudfront.net/trip-data/green_tripdata_2021-02.parquet')\n",
    "\n",
    "target = 'duration'\n",
    "y_train = df_train[target].values\n",
    "y_val = df_val[target].values\n",
    "\n",
    "dict_train = clear_dict(df_train)\n",
    "dict_val = clear_dict(df_val)"
   ]
  },
  {
   "cell_type": "code",
   "execution_count": 8,
   "id": "ef80b7d0",
   "metadata": {},
   "outputs": [
    {
     "name": "stdout",
     "output_type": "stream",
     "text": [
      "{'max_depth': 20, 'n_estimators': 100, 'min_samples_leaf': 10, 'random_state': 0} 6.7558229919200725\n"
     ]
    },
    {
     "name": "stderr",
     "output_type": "stream",
     "text": [
      "2025/06/12 23:28:42 WARNING mlflow.models.model: Model logged without a signature and input example. Please set `input_example` parameter when logging the model to auto infer the model signature.\n"
     ]
    },
    {
     "name": "stdout",
     "output_type": "stream",
     "text": [
      "🏃 View run wistful-robin-345 at: http://127.0.0.1:5000/#/experiments/1/runs/8fd3dc15a36d4240bf05b54b75ed1541\n",
      "🧪 View experiment at: http://127.0.0.1:5000/#/experiments/1\n"
     ]
    }
   ],
   "source": [
    "with mlflow.start_run():\n",
    "    params = dict(max_depth=20, n_estimators=100, min_samples_leaf=10, random_state=0)\n",
    "    mlflow.log_params(params)\n",
    "\n",
    "    pipeline = make_pipeline(\n",
    "        DictVectorizer(),\n",
    "        RandomForestRegressor(**params, n_jobs=-1)\n",
    "    )\n",
    "\n",
    "    pipeline.fit(dict_train, y_train)\n",
    "    y_pred = pipeline.predict(dict_val)\n",
    "\n",
    "    rmse = root_mean_squared_error(y_pred, y_val)\n",
    "    print(params, rmse)\n",
    "    mlflow.log_metric('rmse', rmse)\n",
    "\n",
    "    mlflow.sklearn.log_model(pipeline, artifact_path=\"model\")"
   ]
  },
  {
   "cell_type": "code",
   "execution_count": 9,
   "id": "83c8348d",
   "metadata": {},
   "outputs": [],
   "source": [
    "from mlflow.tracking import MlflowClient"
   ]
  },
  {
   "cell_type": "code",
   "execution_count": 10,
   "id": "6297bc7c",
   "metadata": {},
   "outputs": [],
   "source": [
    "\n",
    "MLFLOW_TRACKING_URI = 'http://127.0.0.1:5000'\n",
    "RUN_ID = '8fd3dc15a36d4240bf05b54b75ed1541'\n",
    "\n",
    "client = MlflowClient(tracking_uri=MLFLOW_TRACKING_URI)\n",
    "# client"
   ]
  },
  {
   "cell_type": "code",
   "execution_count": 11,
   "id": "0fd73b4b",
   "metadata": {},
   "outputs": [
    {
     "name": "stdout",
     "output_type": "stream",
     "text": [
      "Pipeline(steps=[('dictvectorizer', DictVectorizer()),\n",
      "                ('randomforestregressor',\n",
      "                 RandomForestRegressor(max_depth=20, min_samples_leaf=10,\n",
      "                                       n_jobs=-1, random_state=0))])\n"
     ]
    }
   ],
   "source": [
    "\n",
    "model_path = client.download_artifacts(run_id=RUN_ID, path='model/')\n",
    "\n",
    "with open(model_path + '/model.pkl', 'rb') as file:\n",
    "    dv = pickle.load(file)\n",
    "    print(dv)"
   ]
  }
 ],
 "metadata": {
  "kernelspec": {
   "display_name": "base",
   "language": "python",
   "name": "python3"
  },
  "language_info": {
   "codemirror_mode": {
    "name": "ipython",
    "version": 3
   },
   "file_extension": ".py",
   "mimetype": "text/x-python",
   "name": "python",
   "nbconvert_exporter": "python",
   "pygments_lexer": "ipython3",
   "version": "3.12.4"
  }
 },
 "nbformat": 4,
 "nbformat_minor": 5
}
