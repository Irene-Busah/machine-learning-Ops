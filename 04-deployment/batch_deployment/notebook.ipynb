{
 "cells": [
  {
   "cell_type": "code",
   "execution_count": 1,
   "id": "6ebef14f",
   "metadata": {},
   "outputs": [],
   "source": [
    "# importing the necessary libraries\n",
    "import os\n",
    "import uuid\n",
    "import pickle\n",
    "\n",
    "import mlflow\n",
    "\n",
    "import pandas as pd\n",
    "\n",
    "from sklearn.feature_extraction import DictVectorizer\n",
    "from sklearn.ensemble import RandomForestRegressor\n",
    "from sklearn.metrics import root_mean_squared_error\n",
    "from sklearn.pipeline import make_pipeline"
   ]
  },
  {
   "cell_type": "code",
   "execution_count": 2,
   "id": "fac3edd1",
   "metadata": {},
   "outputs": [],
   "source": [
    "mlflow.set_tracking_uri(\"http://127.0.0.1:5000\")\n",
    "\n",
    "# mlflow.set_experiment(\"green-taxi-experiment\")"
   ]
  },
  {
   "cell_type": "code",
   "execution_count": 3,
   "id": "9da43c7f",
   "metadata": {},
   "outputs": [],
   "source": [
    "year = 2021\n",
    "month = 2\n",
    "taxi_type = \"green\"\n",
    "\n",
    "\n",
    "input_file = f'https://d37ci6vzurychx.cloudfront.net/trip-data/{taxi_type}_tripdata_{year:04d}-{month:02d}.parquet'\n",
    "output_file = f'output/{taxi_type}/{year:04d}-{month:02d}.parquet'\n",
    "\n",
    "RUN_ID = '8fd3dc15a36d4240bf05b54b75ed1541'"
   ]
  },
  {
   "cell_type": "code",
   "execution_count": null,
   "id": "e8cbbfc3",
   "metadata": {},
   "outputs": [],
   "source": []
  },
  {
   "cell_type": "code",
   "execution_count": 4,
   "id": "85f4fa85",
   "metadata": {},
   "outputs": [],
   "source": [
    "def generate_uuids(n):\n",
    "    \"\"\"Generate a list of n unique UUIDs.\"\"\"\n",
    "\n",
    "    ride_ids = []\n",
    "    for i in range(n):\n",
    "        ride_ids.append(str(uuid.uuid4()))\n",
    "    return ride_ids\n",
    "\n",
    "def read_dataframe(filename):\n",
    "    \"\"\"Read a DataFrame from a Parquet file.\"\"\"\n",
    "\n",
    "    data = pd.read_parquet(filename)\n",
    "    data['duration'] = data['lpep_dropoff_datetime'] - data['lpep_pickup_datetime']\n",
    "    data['duration'] = data['duration'].dt.total_seconds() / 60\n",
    "\n",
    "    data = data[(data['duration'] >= 1) & (data['duration'] <= 60)]\n",
    "    data['ride_id'] = generate_uuids(len(data))\n",
    "\n",
    "    return data\n",
    "\n",
    "\n",
    "def prepare_dictionaries(data):\n",
    "    \"\"\"Prepare a dictionary representation of the DataFrame for feature extraction.\"\"\"\n",
    "\n",
    "    categorical = ['PULocationID', 'DOLocationID']\n",
    "    data[categorical] = data[categorical].astype(str)\n",
    "\n",
    "    data['PU_DO'] = data['PULocationID'] + '_' + data['DOLocationID']\n",
    "\n",
    "    categorical = ['PU_DO']\n",
    "    numerical = ['trip_distance']\n",
    "\n",
    "    dicts = data[categorical + numerical].to_dict(orient='records')\n",
    "    return dicts\n"
   ]
  },
  {
   "cell_type": "code",
   "execution_count": 7,
   "id": "d836d939",
   "metadata": {},
   "outputs": [],
   "source": [
    "def load_model(run_id):\n",
    "    logged_model = f'runs:/{run_id}/model'\n",
    "    model = mlflow.pyfunc.load_model(logged_model)\n",
    "    return model\n",
    "\n",
    "\n",
    "def apply_model(input_file, run_id, output_file):\n",
    "    \"\"\"Apply the model to the input data and save the results to a Parquet file.\"\"\"\n",
    "\n",
    "    print(f\"Applying model with run_id: {run_id} to input file: {input_file}\")\n",
    "    df = read_dataframe(input_file)\n",
    "    dicts = prepare_dictionaries(df)\n",
    "\n",
    "    print(\"Applying model to the data...\")\n",
    "    model = load_model(run_id)\n",
    "    y_pred = model.predict(dicts)\n",
    "\n",
    "    print(\"Model applied successfully.\")\n",
    "    df_result = pd.DataFrame()\n",
    "    df_result['ride_id'] = df['ride_id']\n",
    "    df_result['lpep_pickup_datetime'] = df['lpep_pickup_datetime']\n",
    "    df_result['PULocationID'] = df['PULocationID']\n",
    "    df_result['DOLocationID'] = df['DOLocationID']\n",
    "    df_result['actual_duration'] = df['duration']\n",
    "    df_result['predicted_duration'] = y_pred\n",
    "    df_result['diff'] = df_result['actual_duration'] - df_result['predicted_duration']\n",
    "    df_result['model_version'] = run_id\n",
    "    \n",
    "    print(\"Saving results to Parquet file...\")\n",
    "    df_result.to_parquet(output_file, index=False)\n",
    "    df_result"
   ]
  },
  {
   "cell_type": "code",
   "execution_count": 8,
   "id": "c46b6fc9",
   "metadata": {},
   "outputs": [
    {
     "name": "stdout",
     "output_type": "stream",
     "text": [
      "Applying model with run_id: 8fd3dc15a36d4240bf05b54b75ed1541 to input file: https://d37ci6vzurychx.cloudfront.net/trip-data/green_tripdata_2021-02.parquet\n",
      "Applying model to the data...\n",
      "Model applied successfully.\n",
      "Saving results to Parquet file...\n"
     ]
    }
   ],
   "source": [
    "apply_model(input_file=input_file, run_id=RUN_ID, output_file=output_file)"
   ]
  }
 ],
 "metadata": {
  "kernelspec": {
   "display_name": "base",
   "language": "python",
   "name": "python3"
  },
  "language_info": {
   "codemirror_mode": {
    "name": "ipython",
    "version": 3
   },
   "file_extension": ".py",
   "mimetype": "text/x-python",
   "name": "python",
   "nbconvert_exporter": "python",
   "pygments_lexer": "ipython3",
   "version": "3.12.4"
  }
 },
 "nbformat": 4,
 "nbformat_minor": 5
}
