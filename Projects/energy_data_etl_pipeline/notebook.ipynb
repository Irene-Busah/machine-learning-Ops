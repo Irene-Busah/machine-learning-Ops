{
 "cells": [
  {
   "cell_type": "markdown",
   "id": "a5693425-9491-4a0c-98e0-664cf6df248b",
   "metadata": {},
   "source": [
    "<center><img src=\"image.png\" width=500></center>\n",
    "<p>\n",
    "\n",
    "You've recently started a new position as a Data Engineer at an energy company. Previously, analysts on other teams had to manually retrieve and clean data every quarter to understand changes in the sales and capability of different energy types. This process normally took days and was something that most analytsts dreaded. Your job is to automate this process by building a data pipeline. You'll write this data pipeline to pull data each month, helping to provide more rapid insights and free up time for your data consumers.\n",
    "\n",
    "You will achieve this using the `pandas` library and its powerful parsing features. You'll be working with two raw files; `electricity_sales.csv` and `electricity_capability_nested.json`. \n",
    "    \n",
    "Below, you'll find a data dictionary for the `electricity_sales.csv` dataset, which you'll be transforming in just a bit. Good luck!\n",
    "\n",
    "| Field | Data Type |\n",
    "| :---- | :-------: |\n",
    "| period  | `str`        |\n",
    "| stateid | `str` |\n",
    "| stateDescription | `str` |\n",
    "| sectorid | `str` |\n",
    "| sectorName | `str` |\n",
    "| price | `float` |\n",
    "| price-units | `str` |\n",
    "\n",
    "\n",
    "### Instructions\n",
    "\n",
    "1. First, define an extract_tabular_data() function to ingest tabular data. This function will take a single parameter, file_path. If file_path ends with .csv, use the pd.read_csv() function to extract the data. If file_path ends with .parquet, use the pd.read_parquet() function to extract the data. Otherwise, raise an exception and print the message: \"Warning: Invalid file extension. Please try with .csv or .parquet!\".\n",
    "\n",
    "2. Create another function with the name extract_json_data(), which takes a file_path. Use the json_normalize() function from the pandas library to flatten the nested JSON data, and return a pandas DataFrame.\n",
    "\n",
    "3. Next, we'll need to build a function to transform the electricity sales data. To do that, we'll create a function called transform_electricity_sales_data() which takes a single parameter raw_data. raw_data should be of type pd.DataFrame. The transform_electricity_sales_data() needs to fullfil some requirements that are described below in the docstring following the function definition.\n",
    "\n",
    "4. To load a DataFrame to a file, we'll define one more function called load(), which takes a DataFrame and a file_path. If the file_path ends with .csv, load the DataFrame to a CSV file. If instead the file_path ends with .parquet, load the DataFrame to a Parquet file. Otherwise, raise an exception that outputs a message in this format: \"Warning: {filepath} is not a valid file type. Please try again!_\""
   ]
  },
  {
   "cell_type": "code",
   "execution_count": 1,
   "id": "408b0fb1-926b-4c41-98e8-15803a1999cb",
   "metadata": {
    "executionCancelledAt": null,
    "executionTime": 10,
    "lastExecutedAt": 1737715360051,
    "lastExecutedByKernel": "50e49d5e-e3f0-4a88-9dc2-1e3514c56d12",
    "lastScheduledRunId": null,
    "lastSuccessfullyExecutedCode": "import pandas as pd\nimport json"
   },
   "outputs": [],
   "source": [
    "import pandas as pd\n",
    "import json"
   ]
  },
  {
   "cell_type": "code",
   "execution_count": 2,
   "id": "e79342a8-2eeb-4bcc-92f0-70c5ebec76e5",
   "metadata": {
    "executionCancelledAt": null,
    "executionTime": 50,
    "lastExecutedAt": 1732713536451,
    "lastExecutedByKernel": "38d619e4-aaba-4b5c-8ea1-6285fbce1f2c",
    "lastScheduledRunId": null,
    "lastSuccessfullyExecutedCode": "import pandas as pd\n\ndef extract_tabular_data(file_path: str):\n    \"\"\"Extract data from a tabular file_format, with pandas.\"\"\"\n    if file_path.endswith(\".csv\"):\n        return pd.read_csv(file_path)\n    \n    elif file_path.endswith(\".parquet\"):\n        return pd.read_parquet(file_path)\n    \n    else:\n        raise Exception(\"Warning: Invalid file extension. Please try with .csv or .parquet!\")\n"
   },
   "outputs": [],
   "source": [
    "def extract_tabular_data(file_path: str):\n",
    "    \"\"\"Extract data from a tabular file_format, with pandas.\"\"\"\n",
    "    try:\n",
    "        if file_path.endswith('.csv'):\n",
    "            data = pd.read_csv(file_path)\n",
    "        elif file_path.endswith(\".parquet\"):\n",
    "            data = pd.read_parquet(file_path)\n",
    "    except Exception as e:\n",
    "        raise Exception(\"Warning: Invalid file extension. Please try with .csv or .parquet!\")\n",
    "    return data"
   ]
  },
  {
   "cell_type": "code",
   "execution_count": 3,
   "id": "ecbc91c2-e0cc-4ae7-a7e8-ab2a56f1a1a9",
   "metadata": {
    "executionCancelledAt": null,
    "executionTime": 47,
    "lastExecutedAt": 1732713536499,
    "lastExecutedByKernel": "38d619e4-aaba-4b5c-8ea1-6285fbce1f2c",
    "lastScheduledRunId": null,
    "lastSuccessfullyExecutedCode": "import json\n\n# Make sure that extract_json_data() takes a single parameter, file_path\ndef extract_json_data(file_path):\n    \"\"\"Extract and flatten data from a JSON file.\"\"\"\n    # First, read in the JSON file into memory using the json library\n    with open(file_path, \"r\") as json_file:\n        raw_data = json.load(json_file)\n    \n    \n    return pd.json_normalize(raw_data)\n"
   },
   "outputs": [],
   "source": [
    "def extract_json_data(file_path):\n",
    "    \"\"\"Extract and flatten data from a JSON file.\"\"\"\n",
    "\n",
    "    try:\n",
    "        with open(file_path, 'r') as file:\n",
    "            data = json.load(file)\n",
    "            data = pd.json_normalize(data)\n",
    "    except Exception as e:\n",
    "        raise Exception(\"Warning: Invalid file extension. Please try with .json!\")\n",
    "    return data\n",
    "    "
   ]
  },
  {
   "cell_type": "code",
   "execution_count": 4,
   "id": "3cc22273-22b8-4f30-8c11-a746f884509f",
   "metadata": {
    "executionCancelledAt": null,
    "executionTime": 51,
    "lastExecutedAt": 1737714942978,
    "lastExecutedByKernel": "50e49d5e-e3f0-4a88-9dc2-1e3514c56d12",
    "lastScheduledRunId": null,
    "lastSuccessfullyExecutedCode": "def transform_electricity_sales_data(raw_data: pd.DataFrame):\n    \"\"\"\n    Transform electricity sales to find the total amount of electricity sold\n    in the residential and transportation sectors.\n    \n    To transform the electricity sales data, you'll need to do the following:\n    - Drop any records with NA values in the `price` column. Do this inplace.\n    - Only keep records with a `sectorName` of \"residential\" or \"transportation\".\n    - Create a `month` column using the first 4 characters of the values in `period`.\n    - Create a `year` column using the last 2 characters of the values in `period`.\n    - Return the transformed `DataFrame`, keeping only the columns `year`, `month`, `stateid`, `price` and `price-units`.\n    \"\"\""
   },
   "outputs": [],
   "source": [
    "def transform_electricity_sales_data(raw_data: pd.DataFrame):\n",
    "    \"\"\"\n",
    "    Transform electricity sales to find the total amount of electricity sold\n",
    "    in the residential and transportation sectors.\n",
    "    \n",
    "    To transform the electricity sales data, you'll need to do the following:\n",
    "    - Drop any records with NA values in the `price` column. Do this inplace.\n",
    "    - Only keep records with a `sectorName` of \"residential\" or \"transportation\".\n",
    "    - Create a `month` column using the first 4 characters of the values in `period`.\n",
    "    - Create a `year` column using the last 2 characters of the values in `period`.\n",
    "    - Return the transformed `DataFrame`, keeping only the columns `year`, `month`, `stateid`, `price` and `price-units`.\n",
    "    \"\"\"\n",
    "\n",
    "    # 1. dropping the NA values from the `price` column\n",
    "    raw_data.dropna(subset=['price'], inplace=True)\n",
    "\n",
    "    # 2. keeping records with residential or transportation sector name\n",
    "    raw_data = raw_data.loc[(raw_data['sectorName'] == \"residential\") | (raw_data['sectorName'] == \"transportation\")]\n",
    "\n",
    "    # 3. creating a new column `year` using the first 4 characters of `period`\n",
    "    raw_data['year'] = raw_data['period'].str[:4]\n",
    "\n",
    "    # 4. creating a new column `month` using the last 2 characters of `period`\n",
    "    raw_data['month'] = raw_data['period'].str[-2:]\n",
    "\n",
    "    # 5. returning the transformed DataFrame with only the required columns\n",
    "    return raw_data[['year', 'month', 'stateid', 'price', 'price-units']]"
   ]
  },
  {
   "cell_type": "code",
   "execution_count": 5,
   "id": "66e6db3c-ebfa-4f7b-9668-eac8a01f4263",
   "metadata": {
    "executionCancelledAt": null,
    "executionTime": 53,
    "lastExecutedAt": 1732713536600,
    "lastExecutedByKernel": "38d619e4-aaba-4b5c-8ea1-6285fbce1f2c",
    "lastScheduledRunId": null,
    "lastSuccessfullyExecutedCode": "def load(dataframe: pd.DataFrame, file_path: str):\n    # Check to see if the file path ends with .csv or .parquet\n    if file_path.endswith(\".csv\"):\n        dataframe.to_csv(file_path)\n        \n    elif file_path.endswith(\".parquet\"):\n        dataframe.to_parquet(file_path)\n    \n    # Otherwise, throw an exception\n    else: raise Exception(f\"Warning: {file_path} is not a valid file type. Please try again!\")\n"
   },
   "outputs": [],
   "source": [
    "def load(dataframe: pd.DataFrame, file_path: str):\n",
    "    \"\"\"Load a DataFrame to a file in either CSV or Parquet format.\"\"\"\n",
    "\n",
    "    try:\n",
    "        if file_path.endswith('.csv'):\n",
    "            dataframe.to_csv(file_path, index=False)\n",
    "        elif file_path.endswith('.parquet'):\n",
    "            dataframe.to_parquet(file_path, index=False)\n",
    "    except Exception as e:\n",
    "            raise ValueError(f\"Warning: {file_path} is not a valid file type. Please try again!_\")"
   ]
  },
  {
   "cell_type": "code",
   "execution_count": 6,
   "id": "befd9c30-8fa0-465f-bfc4-675d25d51e62",
   "metadata": {
    "executionCancelledAt": null,
    "executionTime": 113,
    "lastExecutedAt": 1732714584263,
    "lastExecutedByKernel": "38d619e4-aaba-4b5c-8ea1-6285fbce1f2c",
    "lastScheduledRunId": null,
    "lastSuccessfullyExecutedCode": "# Ingest raw electricity capability\nraw_electricity_capability_df = extract_json_data(\"electricity_capability_nested.json\")\nraw_electricity_sales_df = extract_tabular_data(\"electricity_sales.csv\")\n\ncleaned_electricity_sales_df = transform_electricity_sales_data(raw_electricity_sales_df)\n\nload(raw_electricity_capability_df, \"loaded__electricity_capability.parquet\")\nload(cleaned_electricity_sales_df, \"loaded__electricity_sales.csv\")\n"
   },
   "outputs": [
    {
     "name": "stderr",
     "output_type": "stream",
     "text": [
      "C:\\Users\\STUDSENT\\AppData\\Local\\Temp\\ipykernel_8764\\2906157768.py:21: SettingWithCopyWarning: \n",
      "A value is trying to be set on a copy of a slice from a DataFrame.\n",
      "Try using .loc[row_indexer,col_indexer] = value instead\n",
      "\n",
      "See the caveats in the documentation: https://pandas.pydata.org/pandas-docs/stable/user_guide/indexing.html#returning-a-view-versus-a-copy\n",
      "  raw_data['year'] = raw_data['period'].str[:4]\n",
      "C:\\Users\\STUDSENT\\AppData\\Local\\Temp\\ipykernel_8764\\2906157768.py:24: SettingWithCopyWarning: \n",
      "A value is trying to be set on a copy of a slice from a DataFrame.\n",
      "Try using .loc[row_indexer,col_indexer] = value instead\n",
      "\n",
      "See the caveats in the documentation: https://pandas.pydata.org/pandas-docs/stable/user_guide/indexing.html#returning-a-view-versus-a-copy\n",
      "  raw_data['month'] = raw_data['period'].str[-2:]\n"
     ]
    }
   ],
   "source": [
    "# Ready for the moment of truth? It's time to test the functions that you wrote!\n",
    "raw_electricity_capability_df = extract_json_data(\"electricity_capability_nested.json\")\n",
    "raw_electricity_sales_df = extract_tabular_data(\"electricity_sales.csv\")\n",
    "\n",
    "cleaned_electricity_sales_df = transform_electricity_sales_data(raw_electricity_sales_df)\n",
    "\n",
    "load(raw_electricity_capability_df, \"loaded__electricity_capability.parquet\")\n",
    "load(cleaned_electricity_sales_df, \"loaded__electricity_sales.csv\")"
   ]
  },
  {
   "cell_type": "code",
   "execution_count": 10,
   "id": "7df0cc3c",
   "metadata": {},
   "outputs": [
    {
     "data": {
      "application/vnd.microsoft.datawrangler.viewer.v0+json": {
       "columns": [
        {
         "name": "index",
         "rawType": "int64",
         "type": "integer"
        },
        {
         "name": "period",
         "rawType": "object",
         "type": "string"
        },
        {
         "name": "stateId",
         "rawType": "object",
         "type": "string"
        },
        {
         "name": "statstateDescriptione",
         "rawType": "object",
         "type": "string"
        },
        {
         "name": "energySource.id",
         "rawType": "object",
         "type": "string"
        },
        {
         "name": "energySource.description",
         "rawType": "object",
         "type": "string"
        },
        {
         "name": "energySource.capability",
         "rawType": "object",
         "type": "string"
        },
        {
         "name": "energySource.capabilityUnits",
         "rawType": "object",
         "type": "string"
        }
       ],
       "ref": "6b29124b-4efa-4c4e-b19e-5d0039cd07b9",
       "rows": [
        [
         "2250",
         "2023",
         "DC",
         "District of Columbia",
         "NG",
         "Natural Gas",
         "20.6",
         "megawatts"
        ],
        [
         "1176",
         "2023",
         "NC",
         "North Carolina",
         "NG",
         "Natural Gas",
         "13984",
         "megawatts"
        ],
        [
         "45",
         "2023",
         "AK",
         "Alaska",
         "NG",
         "Natural Gas",
         "1257.5",
         "megawatts"
        ],
        [
         "734",
         "2023",
         "IN",
         "Indiana",
         "PETGT",
         "Petroleum - GT",
         "37",
         "megawatts"
        ],
        [
         "1574",
         "2023",
         "ND",
         "North Dakota",
         "PETGT",
         "Petroleum - GT",
         "40.6",
         "megawatts"
        ],
        [
         "619",
         "2023",
         "KY",
         "Kentucky",
         "NGGT",
         "Natural Gas - GT",
         "848",
         "megawatts"
        ],
        [
         "912",
         "2023",
         "NJ",
         "New Jersey",
         "SOL",
         "Solar",
         "87.9",
         "megawatts"
        ],
        [
         "220",
         "2023",
         "FL",
         "Florida",
         "NGCC",
         "Natural Gas - CC",
         "35743",
         "megawatts"
        ],
        [
         "277",
         "2023",
         "GA",
         "Georgia",
         "OBM",
         "Other Biomass",
         "55.8",
         "megawatts"
        ],
        [
         "1486",
         "2023",
         "ND",
         "North Dakota",
         "OBM",
         "Other Biomass",
         "9.8",
         "megawatts"
        ]
       ],
       "shape": {
        "columns": 7,
        "rows": 10
       }
      },
      "text/html": [
       "<div>\n",
       "<style scoped>\n",
       "    .dataframe tbody tr th:only-of-type {\n",
       "        vertical-align: middle;\n",
       "    }\n",
       "\n",
       "    .dataframe tbody tr th {\n",
       "        vertical-align: top;\n",
       "    }\n",
       "\n",
       "    .dataframe thead th {\n",
       "        text-align: right;\n",
       "    }\n",
       "</style>\n",
       "<table border=\"1\" class=\"dataframe\">\n",
       "  <thead>\n",
       "    <tr style=\"text-align: right;\">\n",
       "      <th></th>\n",
       "      <th>period</th>\n",
       "      <th>stateId</th>\n",
       "      <th>statstateDescriptione</th>\n",
       "      <th>energySource.id</th>\n",
       "      <th>energySource.description</th>\n",
       "      <th>energySource.capability</th>\n",
       "      <th>energySource.capabilityUnits</th>\n",
       "    </tr>\n",
       "  </thead>\n",
       "  <tbody>\n",
       "    <tr>\n",
       "      <th>2250</th>\n",
       "      <td>2023</td>\n",
       "      <td>DC</td>\n",
       "      <td>District of Columbia</td>\n",
       "      <td>NG</td>\n",
       "      <td>Natural Gas</td>\n",
       "      <td>20.6</td>\n",
       "      <td>megawatts</td>\n",
       "    </tr>\n",
       "    <tr>\n",
       "      <th>1176</th>\n",
       "      <td>2023</td>\n",
       "      <td>NC</td>\n",
       "      <td>North Carolina</td>\n",
       "      <td>NG</td>\n",
       "      <td>Natural Gas</td>\n",
       "      <td>13984</td>\n",
       "      <td>megawatts</td>\n",
       "    </tr>\n",
       "    <tr>\n",
       "      <th>45</th>\n",
       "      <td>2023</td>\n",
       "      <td>AK</td>\n",
       "      <td>Alaska</td>\n",
       "      <td>NG</td>\n",
       "      <td>Natural Gas</td>\n",
       "      <td>1257.5</td>\n",
       "      <td>megawatts</td>\n",
       "    </tr>\n",
       "    <tr>\n",
       "      <th>734</th>\n",
       "      <td>2023</td>\n",
       "      <td>IN</td>\n",
       "      <td>Indiana</td>\n",
       "      <td>PETGT</td>\n",
       "      <td>Petroleum - GT</td>\n",
       "      <td>37</td>\n",
       "      <td>megawatts</td>\n",
       "    </tr>\n",
       "    <tr>\n",
       "      <th>1574</th>\n",
       "      <td>2023</td>\n",
       "      <td>ND</td>\n",
       "      <td>North Dakota</td>\n",
       "      <td>PETGT</td>\n",
       "      <td>Petroleum - GT</td>\n",
       "      <td>40.6</td>\n",
       "      <td>megawatts</td>\n",
       "    </tr>\n",
       "    <tr>\n",
       "      <th>619</th>\n",
       "      <td>2023</td>\n",
       "      <td>KY</td>\n",
       "      <td>Kentucky</td>\n",
       "      <td>NGGT</td>\n",
       "      <td>Natural Gas - GT</td>\n",
       "      <td>848</td>\n",
       "      <td>megawatts</td>\n",
       "    </tr>\n",
       "    <tr>\n",
       "      <th>912</th>\n",
       "      <td>2023</td>\n",
       "      <td>NJ</td>\n",
       "      <td>New Jersey</td>\n",
       "      <td>SOL</td>\n",
       "      <td>Solar</td>\n",
       "      <td>87.9</td>\n",
       "      <td>megawatts</td>\n",
       "    </tr>\n",
       "    <tr>\n",
       "      <th>220</th>\n",
       "      <td>2023</td>\n",
       "      <td>FL</td>\n",
       "      <td>Florida</td>\n",
       "      <td>NGCC</td>\n",
       "      <td>Natural Gas - CC</td>\n",
       "      <td>35743</td>\n",
       "      <td>megawatts</td>\n",
       "    </tr>\n",
       "    <tr>\n",
       "      <th>277</th>\n",
       "      <td>2023</td>\n",
       "      <td>GA</td>\n",
       "      <td>Georgia</td>\n",
       "      <td>OBM</td>\n",
       "      <td>Other Biomass</td>\n",
       "      <td>55.8</td>\n",
       "      <td>megawatts</td>\n",
       "    </tr>\n",
       "    <tr>\n",
       "      <th>1486</th>\n",
       "      <td>2023</td>\n",
       "      <td>ND</td>\n",
       "      <td>North Dakota</td>\n",
       "      <td>OBM</td>\n",
       "      <td>Other Biomass</td>\n",
       "      <td>9.8</td>\n",
       "      <td>megawatts</td>\n",
       "    </tr>\n",
       "  </tbody>\n",
       "</table>\n",
       "</div>"
      ],
      "text/plain": [
       "     period stateId statstateDescriptione energySource.id  \\\n",
       "2250   2023      DC  District of Columbia              NG   \n",
       "1176   2023      NC        North Carolina              NG   \n",
       "45     2023      AK                Alaska              NG   \n",
       "734    2023      IN               Indiana           PETGT   \n",
       "1574   2023      ND          North Dakota           PETGT   \n",
       "619    2023      KY              Kentucky            NGGT   \n",
       "912    2023      NJ            New Jersey             SOL   \n",
       "220    2023      FL               Florida            NGCC   \n",
       "277    2023      GA               Georgia             OBM   \n",
       "1486   2023      ND          North Dakota             OBM   \n",
       "\n",
       "     energySource.description energySource.capability  \\\n",
       "2250              Natural Gas                    20.6   \n",
       "1176              Natural Gas                   13984   \n",
       "45                Natural Gas                  1257.5   \n",
       "734            Petroleum - GT                      37   \n",
       "1574           Petroleum - GT                    40.6   \n",
       "619          Natural Gas - GT                     848   \n",
       "912                     Solar                    87.9   \n",
       "220          Natural Gas - CC                   35743   \n",
       "277             Other Biomass                    55.8   \n",
       "1486            Other Biomass                     9.8   \n",
       "\n",
       "     energySource.capabilityUnits  \n",
       "2250                    megawatts  \n",
       "1176                    megawatts  \n",
       "45                      megawatts  \n",
       "734                     megawatts  \n",
       "1574                    megawatts  \n",
       "619                     megawatts  \n",
       "912                     megawatts  \n",
       "220                     megawatts  \n",
       "277                     megawatts  \n",
       "1486                    megawatts  "
      ]
     },
     "execution_count": 10,
     "metadata": {},
     "output_type": "execute_result"
    }
   ],
   "source": [
    "raw_electricity_capability_df.sample(n=10)"
   ]
  },
  {
   "cell_type": "code",
   "execution_count": 17,
   "id": "f4553a50",
   "metadata": {},
   "outputs": [
    {
     "data": {
      "text/plain": [
       "Index(['period', 'stateid', 'stateDescription', 'sectorid', 'sectorName',\n",
       "       'price', 'price-units'],\n",
       "      dtype='object')"
      ]
     },
     "execution_count": 17,
     "metadata": {},
     "output_type": "execute_result"
    }
   ],
   "source": [
    "raw_electricity_sales_df.columns"
   ]
  },
  {
   "cell_type": "code",
   "execution_count": 14,
   "id": "94372c9c",
   "metadata": {},
   "outputs": [
    {
     "data": {
      "application/vnd.microsoft.datawrangler.viewer.v0+json": {
       "columns": [
        {
         "name": "index",
         "rawType": "int64",
         "type": "integer"
        },
        {
         "name": "period",
         "rawType": "object",
         "type": "string"
        },
        {
         "name": "stateid",
         "rawType": "object",
         "type": "string"
        },
        {
         "name": "stateDescription",
         "rawType": "object",
         "type": "string"
        },
        {
         "name": "sectorid",
         "rawType": "object",
         "type": "string"
        },
        {
         "name": "sectorName",
         "rawType": "object",
         "type": "string"
        },
        {
         "name": "price",
         "rawType": "float64",
         "type": "float"
        },
        {
         "name": "price-units",
         "rawType": "object",
         "type": "string"
        }
       ],
       "ref": "ea5a403b-779d-4105-95c7-b5e6129fc461",
       "rows": [
        [
         "0",
         "2023-12",
         "HI",
         "Hawaii",
         "TRA",
         "transportation",
         "0.0",
         "cents per kilowatt-hour"
        ],
        [
         "1",
         "2023-12",
         "ID",
         "Idaho",
         "ALL",
         "all sectors",
         "9.46",
         "cents per kilowatt-hour"
        ],
        [
         "2",
         "2023-12",
         "ID",
         "Idaho",
         "COM",
         "commercial",
         "8.88",
         "cents per kilowatt-hour"
        ],
        [
         "3",
         "2023-12",
         "ID",
         "Idaho",
         "IND",
         "industrial",
         "6.21",
         "cents per kilowatt-hour"
        ],
        [
         "5",
         "2023-12",
         "ID",
         "Idaho",
         "RES",
         "residential",
         "11.53",
         "cents per kilowatt-hour"
        ]
       ],
       "shape": {
        "columns": 7,
        "rows": 5
       }
      },
      "text/html": [
       "<div>\n",
       "<style scoped>\n",
       "    .dataframe tbody tr th:only-of-type {\n",
       "        vertical-align: middle;\n",
       "    }\n",
       "\n",
       "    .dataframe tbody tr th {\n",
       "        vertical-align: top;\n",
       "    }\n",
       "\n",
       "    .dataframe thead th {\n",
       "        text-align: right;\n",
       "    }\n",
       "</style>\n",
       "<table border=\"1\" class=\"dataframe\">\n",
       "  <thead>\n",
       "    <tr style=\"text-align: right;\">\n",
       "      <th></th>\n",
       "      <th>period</th>\n",
       "      <th>stateid</th>\n",
       "      <th>stateDescription</th>\n",
       "      <th>sectorid</th>\n",
       "      <th>sectorName</th>\n",
       "      <th>price</th>\n",
       "      <th>price-units</th>\n",
       "    </tr>\n",
       "  </thead>\n",
       "  <tbody>\n",
       "    <tr>\n",
       "      <th>0</th>\n",
       "      <td>2023-12</td>\n",
       "      <td>HI</td>\n",
       "      <td>Hawaii</td>\n",
       "      <td>TRA</td>\n",
       "      <td>transportation</td>\n",
       "      <td>0.00</td>\n",
       "      <td>cents per kilowatt-hour</td>\n",
       "    </tr>\n",
       "    <tr>\n",
       "      <th>1</th>\n",
       "      <td>2023-12</td>\n",
       "      <td>ID</td>\n",
       "      <td>Idaho</td>\n",
       "      <td>ALL</td>\n",
       "      <td>all sectors</td>\n",
       "      <td>9.46</td>\n",
       "      <td>cents per kilowatt-hour</td>\n",
       "    </tr>\n",
       "    <tr>\n",
       "      <th>2</th>\n",
       "      <td>2023-12</td>\n",
       "      <td>ID</td>\n",
       "      <td>Idaho</td>\n",
       "      <td>COM</td>\n",
       "      <td>commercial</td>\n",
       "      <td>8.88</td>\n",
       "      <td>cents per kilowatt-hour</td>\n",
       "    </tr>\n",
       "    <tr>\n",
       "      <th>3</th>\n",
       "      <td>2023-12</td>\n",
       "      <td>ID</td>\n",
       "      <td>Idaho</td>\n",
       "      <td>IND</td>\n",
       "      <td>industrial</td>\n",
       "      <td>6.21</td>\n",
       "      <td>cents per kilowatt-hour</td>\n",
       "    </tr>\n",
       "    <tr>\n",
       "      <th>5</th>\n",
       "      <td>2023-12</td>\n",
       "      <td>ID</td>\n",
       "      <td>Idaho</td>\n",
       "      <td>RES</td>\n",
       "      <td>residential</td>\n",
       "      <td>11.53</td>\n",
       "      <td>cents per kilowatt-hour</td>\n",
       "    </tr>\n",
       "  </tbody>\n",
       "</table>\n",
       "</div>"
      ],
      "text/plain": [
       "    period stateid stateDescription sectorid      sectorName  price  \\\n",
       "0  2023-12      HI           Hawaii      TRA  transportation   0.00   \n",
       "1  2023-12      ID            Idaho      ALL     all sectors   9.46   \n",
       "2  2023-12      ID            Idaho      COM      commercial   8.88   \n",
       "3  2023-12      ID            Idaho      IND      industrial   6.21   \n",
       "5  2023-12      ID            Idaho      RES     residential  11.53   \n",
       "\n",
       "               price-units  \n",
       "0  cents per kilowatt-hour  \n",
       "1  cents per kilowatt-hour  \n",
       "2  cents per kilowatt-hour  \n",
       "3  cents per kilowatt-hour  \n",
       "5  cents per kilowatt-hour  "
      ]
     },
     "execution_count": 14,
     "metadata": {},
     "output_type": "execute_result"
    }
   ],
   "source": [
    "cleaned_electricity_sales_df.head()"
   ]
  },
  {
   "cell_type": "code",
   "execution_count": 15,
   "id": "93de6abe",
   "metadata": {},
   "outputs": [
    {
     "data": {
      "application/vnd.microsoft.datawrangler.viewer.v0+json": {
       "columns": [
        {
         "name": "index",
         "rawType": "object",
         "type": "string"
        },
        {
         "name": "0",
         "rawType": "int64",
         "type": "integer"
        }
       ],
       "ref": "a360148e-53b5-49a6-b4cb-b8d6a082eb2e",
       "rows": [
        [
         "period",
         "0"
        ],
        [
         "stateid",
         "0"
        ],
        [
         "stateDescription",
         "0"
        ],
        [
         "sectorid",
         "0"
        ],
        [
         "sectorName",
         "0"
        ],
        [
         "price",
         "0"
        ],
        [
         "price-units",
         "0"
        ]
       ],
       "shape": {
        "columns": 1,
        "rows": 7
       }
      },
      "text/plain": [
       "period              0\n",
       "stateid             0\n",
       "stateDescription    0\n",
       "sectorid            0\n",
       "sectorName          0\n",
       "price               0\n",
       "price-units         0\n",
       "dtype: int64"
      ]
     },
     "execution_count": 15,
     "metadata": {},
     "output_type": "execute_result"
    }
   ],
   "source": [
    "raw_electricity_sales_df.isna().sum()"
   ]
  }
 ],
 "metadata": {
  "colab": {
   "name": "Welcome to DataCamp Workspaces.ipynb",
   "provenance": []
  },
  "kernelspec": {
   "display_name": "base",
   "language": "python",
   "name": "python3"
  },
  "language_info": {
   "codemirror_mode": {
    "name": "ipython",
    "version": 3
   },
   "file_extension": ".py",
   "mimetype": "text/x-python",
   "name": "python",
   "nbconvert_exporter": "python",
   "pygments_lexer": "ipython3",
   "version": "3.12.4"
  }
 },
 "nbformat": 4,
 "nbformat_minor": 5
}
