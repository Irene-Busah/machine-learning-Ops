{
 "cells": [
  {
   "cell_type": "code",
   "execution_count": 1,
   "id": "0e6add5a",
   "metadata": {},
   "outputs": [],
   "source": [
    "# importing the defined functions\n",
    "from src.data.load_data import load_dataset\n",
    "from src.data.preprocess import check_collinearity\n",
    "from src.data.preprocess import select_features\n",
    "\n",
    "\n",
    "# importing libraries\n",
    "import pandas as pd"
   ]
  },
  {
   "cell_type": "code",
   "execution_count": 2,
   "id": "68aed9b4",
   "metadata": {},
   "outputs": [
    {
     "name": "stdout",
     "output_type": "stream",
     "text": [
      "(756, 755)\n"
     ]
    },
    {
     "data": {
      "text/plain": [
       "(252, 265)"
      ]
     },
     "execution_count": 2,
     "metadata": {},
     "output_type": "execute_result"
    }
   ],
   "source": [
    "# loading the data\n",
    "filepath = \"data/parkinson_disease.csv\"\n",
    "\n",
    "data = load_dataset(filepath=filepath)\n",
    "\n",
    "print(data.shape)\n",
    "\n",
    "data = check_collinearity(df=data)\n",
    "\n",
    "data.shape"
   ]
  },
  {
   "cell_type": "code",
   "execution_count": 3,
   "id": "9412132f",
   "metadata": {},
   "outputs": [
    {
     "name": "stderr",
     "output_type": "stream",
     "text": [
      "c:\\Users\\STUDSENT\\Desktop\\machine-learning-Ops\\parkinson_disease_prediction\\src\\data\\preprocess.py:68: SettingWithCopyWarning: \n",
      "A value is trying to be set on a copy of a slice from a DataFrame.\n",
      "Try using .loc[row_indexer,col_indexer] = value instead\n",
      "\n",
      "See the caveats in the documentation: https://pandas.pydata.org/pandas-docs/stable/user_guide/indexing.html#returning-a-view-versus-a-copy\n",
      "  filtered_data['class'] = df['class']\n"
     ]
    },
    {
     "data": {
      "text/plain": [
       "(252, 31)"
      ]
     },
     "execution_count": 3,
     "metadata": {},
     "output_type": "execute_result"
    }
   ],
   "source": [
    "data = select_features(df=data)\n",
    "data.shape"
   ]
  },
  {
   "cell_type": "code",
   "execution_count": null,
   "id": "66645cd9",
   "metadata": {},
   "outputs": [],
   "source": []
  }
 ],
 "metadata": {
  "kernelspec": {
   "display_name": "base",
   "language": "python",
   "name": "python3"
  },
  "language_info": {
   "codemirror_mode": {
    "name": "ipython",
    "version": 3
   },
   "file_extension": ".py",
   "mimetype": "text/x-python",
   "name": "python",
   "nbconvert_exporter": "python",
   "pygments_lexer": "ipython3",
   "version": "3.12.4"
  }
 },
 "nbformat": 4,
 "nbformat_minor": 5
}
