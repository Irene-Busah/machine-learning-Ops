{
 "cells": [
  {
   "cell_type": "markdown",
   "id": "559b2fbd",
   "metadata": {},
   "source": [
    "In this quickstart, we will\n",
    "- run a hyperparameter sweep on the training of a model\n",
    "- compare the results of the runs in the mlflow UI\n",
    "- choose the best run and register it as a model\n",
    "- deploy the model to a REST API\n",
    "- build a container image suitable for deployment to the cloud platform"
   ]
  },
  {
   "cell_type": "code",
   "execution_count": 1,
   "id": "eb27c744",
   "metadata": {},
   "outputs": [],
   "source": [
    "# importing the relevant libraries\n",
    "import keras"
   ]
  }
 ],
 "metadata": {
  "kernelspec": {
   "display_name": "base",
   "language": "python",
   "name": "python3"
  },
  "language_info": {
   "codemirror_mode": {
    "name": "ipython",
    "version": 3
   },
   "file_extension": ".py",
   "mimetype": "text/x-python",
   "name": "python",
   "nbconvert_exporter": "python",
   "pygments_lexer": "ipython3",
   "version": "3.12.4"
  }
 },
 "nbformat": 4,
 "nbformat_minor": 5
}
